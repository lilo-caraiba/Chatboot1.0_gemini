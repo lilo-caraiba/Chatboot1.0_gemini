{
  "nbformat": 4,
  "nbformat_minor": 0,
  "metadata": {
    "colab": {
      "provenance": [],
      "authorship_tag": "ABX9TyMUQ53Be+qRw1/4B0w1vcrc",
      "include_colab_link": true
    },
    "kernelspec": {
      "name": "python3",
      "display_name": "Python 3"
    },
    "language_info": {
      "name": "python"
    }
  },
  "cells": [
    {
      "cell_type": "markdown",
      "metadata": {
        "id": "view-in-github",
        "colab_type": "text"
      },
      "source": [
        "<a href=\"https://colab.research.google.com/github/lilo-caraiba/Chatboot1.0_gemini/blob/main/First_chat.ipynb\" target=\"_parent\"><img src=\"https://colab.research.google.com/assets/colab-badge.svg\" alt=\"Open In Colab\"/></a>"
      ]
    },
    {
      "cell_type": "markdown",
      "source": [
        "## instalando SDK do Google"
      ],
      "metadata": {
        "id": "uQFhxrUmh_tX"
      }
    },
    {
      "cell_type": "code",
      "execution_count": 4,
      "metadata": {
        "colab": {
          "base_uri": "https://localhost:8080/"
        },
        "id": "D9qukOk6h8L2",
        "outputId": "9e4dc937-45eb-4bfc-c0a1-84c4081a0387"
      },
      "outputs": [
        {
          "output_type": "stream",
          "name": "stdout",
          "text": [
            "\u001b[2K     \u001b[90m━━━━━━━━━━━━━━━━━━━━━━━━━━━━━━━━━━━━━━━━\u001b[0m \u001b[32m150.7/150.7 kB\u001b[0m \u001b[31m2.7 MB/s\u001b[0m eta \u001b[36m0:00:00\u001b[0m\n",
            "\u001b[2K     \u001b[90m━━━━━━━━━━━━━━━━━━━━━━━━━━━━━━━━━━━━━━━━\u001b[0m \u001b[32m677.8/677.8 kB\u001b[0m \u001b[31m12.5 MB/s\u001b[0m eta \u001b[36m0:00:00\u001b[0m\n",
            "\u001b[?25h"
          ]
        }
      ],
      "source": [
        "!pip install -q -U google-generativeai\n"
      ]
    },
    {
      "cell_type": "code",
      "source": [
        "# Import the Python SDK\n",
        "import google.generativeai as genai\n",
        "\n",
        "from google.colab import userdata\n",
        "api_key = userdata.get('SECRET_KEY')\n",
        "genai.configure(api_key=api_key)"
      ],
      "metadata": {
        "id": "NkXzRE6_iIQn"
      },
      "execution_count": 3,
      "outputs": []
    },
    {
      "cell_type": "markdown",
      "source": [
        "Listar modelos disponíveis"
      ],
      "metadata": {
        "id": "TNKcoLiwiS5K"
      }
    },
    {
      "cell_type": "code",
      "source": [
        "for m in genai.list_models():\n",
        "  if 'generateContent' in m.supported_generation_methods:\n",
        "    print(m.name)"
      ],
      "metadata": {
        "colab": {
          "base_uri": "https://localhost:8080/",
          "height": 139
        },
        "id": "nomSjnkriQYM",
        "outputId": "09276042-b811-412c-e63b-868f38a4b09c"
      },
      "execution_count": 5,
      "outputs": [
        {
          "output_type": "stream",
          "name": "stdout",
          "text": [
            "models/gemini-1.0-pro\n",
            "models/gemini-1.0-pro-001\n",
            "models/gemini-1.0-pro-latest\n",
            "models/gemini-1.0-pro-vision-latest\n",
            "models/gemini-1.5-pro-latest\n",
            "models/gemini-pro\n",
            "models/gemini-pro-vision\n"
          ]
        }
      ]
    },
    {
      "cell_type": "code",
      "source": [
        "generation_config = {\n",
        "  \"candidate_count\": 1,\n",
        "  \"temperature\": 0.5,\n",
        "}"
      ],
      "metadata": {
        "id": "ky7uRuYNAC20"
      },
      "execution_count": 10,
      "outputs": []
    },
    {
      "cell_type": "code",
      "source": [
        "safety_settings={\n",
        "    'HATE' : 'BLOCK_NONE',\n",
        "    'HARASSMENT' : 'BLOCK_NONE',\n",
        "    'SEXUAL' : 'BLOCK_NONE',\n",
        "    'DANGEROUS' : 'BLOCK_NONE'\n",
        "}"
      ],
      "metadata": {
        "id": "yQxjsFc8DJ_V"
      },
      "execution_count": 12,
      "outputs": []
    },
    {
      "cell_type": "code",
      "source": [
        "model = genai.GenerativeModel(model_name='gemini-1.0-pro',\n",
        "                                  generation_config=generation_config,\n",
        "                                  safety_settings=safety_settings,)"
      ],
      "metadata": {
        "id": "-B958bMgut73"
      },
      "execution_count": 13,
      "outputs": []
    },
    {
      "cell_type": "code",
      "source": [
        "response = model.generate_content(\"Que empresa criou o modelo de IA Gemini?\")\n",
        "response.text"
      ],
      "metadata": {
        "colab": {
          "base_uri": "https://localhost:8080/",
          "height": 35
        },
        "id": "mX-QRUCKvP3z",
        "outputId": "dc8d2599-ac6e-4504-a55f-f8755d92d1fd"
      },
      "execution_count": 16,
      "outputs": [
        {
          "output_type": "execute_result",
          "data": {
            "text/plain": [
              "'Google'"
            ],
            "application/vnd.google.colaboratory.intrinsic+json": {
              "type": "string"
            }
          },
          "metadata": {},
          "execution_count": 16
        }
      ]
    },
    {
      "cell_type": "code",
      "source": [],
      "metadata": {
        "id": "qQa_U_CM2J58"
      },
      "execution_count": null,
      "outputs": []
    },
    {
      "cell_type": "code",
      "source": [
        "chat = model.start_chat(history=[])\n",
        "\n",
        "prompt = input('Esperando prompt: ')\n",
        "\n",
        "while prompt != \"fim\":\n",
        "  response = chat.send_message(prompt)\n",
        "  print(\"Resposta:\", response.text, '\\n\\n')\n",
        "  prompt = input('Esperando prompt: ')\n"
      ],
      "metadata": {
        "colab": {
          "base_uri": "https://localhost:8080/",
          "height": 1000
        },
        "collapsed": true,
        "id": "7VmQRLuuxCtt",
        "outputId": "0210f699-e0e3-40e0-f65c-6e2f646754a6"
      },
      "execution_count": null,
      "outputs": [
        {
          "output_type": "stream",
          "name": "stdout",
          "text": [
            "Esperando prompt: Eu preciso que você atue como um programador de CLP Industrial especializado em CLP da marca Siemens e linguagem de programação Ladder.\n",
            "Resposta: **Programador de CLP Industrial Especializado em CLP Siemens e Linguagem de Programação Ladder**\n",
            "\n",
            "**Perfil Profissional:**\n",
            "\n",
            "* Engenheiro de automação ou eletricista com experiência comprovada em programação de CLP Siemens\n",
            "* Conhecimento profundo da linguagem de programação Ladder e arquitetura de CLP\n",
            "* Habilidade em projetar, implementar e solucionar problemas em sistemas de automação industrial\n",
            "* Familiaridade com protocolos de comunicação industrial (por exemplo, PROFIBUS, PROFINET)\n",
            "* Experiência em trabalhar com software de programação Siemens (por exemplo, TIA Portal)\n",
            "* Excelentes habilidades analíticas e de resolução de problemas\n",
            "\n",
            "**Habilidades Técnicas:**\n",
            "\n",
            "**CLP Siemens:**\n",
            "\n",
            "* Programação em linguagem Ladder (LAD)\n",
            "* Configuração de hardware e software\n",
            "* Diagnóstico e solução de problemas\n",
            "* Conhecimento dos módulos Siemens (por exemplo, CPUs, E/S, redes)\n",
            "\n",
            "**Linguagem de Programação Ladder:**\n",
            "\n",
            "* Sintaxe e semântica\n",
            "* Estruturas de dados e instruções de controle\n",
            "* Técnicas de programação eficientes\n",
            "* Depuração e otimização de código\n",
            "\n",
            "**Automação Industrial:**\n",
            "\n",
            "* Princípios de automação\n",
            "* Projeto de sistemas de controle\n",
            "* Integração de equipamentos e sensores\n",
            "* Protocolos de comunicação industrial\n",
            "* Segurança funcional\n",
            "\n",
            "**Software Siemens:**\n",
            "\n",
            "* TIA Portal (Step 7, WinCC)\n",
            "* Simulação e depuração\n",
            "* Gerenciamento de projetos\n",
            "* Documentação e manutenção\n",
            "\n",
            "**Outras Habilidades:**\n",
            "\n",
            "* Fortes habilidades de comunicação e interpessoais\n",
            "* Orientado a resultados e motivado\n",
            "* Capaz de trabalhar de forma independente e em equipe\n",
            "* Atenção aos detalhes e precisão\n",
            "* Conhecimento de normas e regulamentos da indústria \n",
            "\n",
            "\n",
            "Esperando prompt: Defina a melhor maneira de usar sensores do tipo RFID dentro do projeto de CLP Siemens.\n",
            "Resposta: **Melhor Maneira de Usar Sensores RFID em Projetos de CLP Siemens**\n",
            "\n",
            "**1. Escolha do Sensor RFID Adequado:**\n",
            "\n",
            "* Determine o tipo de RFID (ativo, passivo, UHF, HF) adequado para a aplicação.\n",
            "* Considere o alcance, velocidade de leitura e tamanho do sensor.\n",
            "* Verifique a compatibilidade com o CLP Siemens.\n",
            "\n",
            "**2. Integração de Hardware:**\n",
            "\n",
            "* Conecte o sensor RFID à porta de comunicação do CLP (por exemplo, RS-485, Ethernet).\n",
            "* Configure os parâmetros de comunicação no CLP e no sensor.\n",
            "* Forneça alimentação adequada para o sensor.\n",
            "\n",
            "**3. Programação Ladder:**\n",
            "\n",
            "* Crie uma rotina de leitura RFID no programa Ladder.\n",
            "* Use instruções de comunicação para enviar comandos de leitura para o sensor.\n",
            "* Receba e processe os dados RFID recebidos.\n",
            "\n",
            "**4. Gerenciamento de Dados:**\n",
            "\n",
            "* Armazene os dados RFID em variáveis ou arquivos de dados do CLP.\n",
            "* Use os dados para controlar saídas, acionar alarmes ou atualizar interfaces do operador.\n",
            "\n",
            "**5. Segurança:**\n",
            "\n",
            "* Proteja os dados RFID contra acesso não autorizado usando protocolos de comunicação seguros.\n",
            "* Implemente medidas de segurança física para evitar acesso indevido ao sensor.\n",
            "\n",
            "**6. Otimização:**\n",
            "\n",
            "* Otimize os parâmetros de leitura para melhorar a velocidade e confiabilidade.\n",
            "* Use técnicas de filtragem para reduzir dados redundantes.\n",
            "* Implemente algoritmos eficientes para processamento de dados.\n",
            "\n",
            "**7. Manutenção:**\n",
            "\n",
            "* Monitore regularmente o status do sensor RFID.\n",
            "* Verifique as conexões e a alimentação.\n",
            "* Execute testes de leitura periódicos para garantir a funcionalidade adequada.\n",
            "\n",
            "**Dicas Adicionais:**\n",
            "\n",
            "* Use módulos de comunicação Siemens específicos para RFID (por exemplo, CP 343-1 Lean).\n",
            "* Aproveite as bibliotecas de funções Siemens para simplificar a programação.\n",
            "* Consulte o manual do sensor RFID e a documentação do CLP Siemens para obter instruções detalhadas.\n",
            "* Teste e depure cuidadosamente o sistema antes da implantação. \n",
            "\n",
            "\n"
          ]
        }
      ]
    },
    {
      "cell_type": "code",
      "source": [
        "chat.history"
      ],
      "metadata": {
        "colab": {
          "base_uri": "https://localhost:8080/"
        },
        "collapsed": true,
        "id": "Vs3vSzkWzggN",
        "outputId": "5a50db49-f5f5-41ef-f01d-f7b98f4e3991"
      },
      "execution_count": 21,
      "outputs": [
        {
          "output_type": "execute_result",
          "data": {
            "text/plain": [
              "[]"
            ]
          },
          "metadata": {},
          "execution_count": 21
        }
      ]
    },
    {
      "cell_type": "code",
      "source": [
        "#Melhorando a visualização\n",
        "#Código disponível em https\n",
        "\n",
        "import pathlib\n",
        "import textwrap\n",
        "\n",
        "import google.generativeai as genai\n",
        "\n",
        "from IPython.display import display\n",
        "from IPython.display import Markdown\n",
        "\n",
        "\n",
        "def to_markdown(text):\n",
        "  text = text.replace('•', '  *')\n",
        "  return Markdown(textwrap.indent(text, '> ', predicate=lambda _: True))\n",
        "\n",
        "#Imprimindo o histórico\n",
        "for message in chat.history:\n",
        "  display(to_markdown(f'**{message.role}**: {message.parts[0].text}'))\n",
        "  print('---------------------------------------------')"
      ],
      "metadata": {
        "id": "gmoIED3T00U4"
      },
      "execution_count": null,
      "outputs": []
    },
    {
      "cell_type": "code",
      "source": [],
      "metadata": {
        "id": "Y7DmN3JI00SR"
      },
      "execution_count": null,
      "outputs": []
    }
  ]
}